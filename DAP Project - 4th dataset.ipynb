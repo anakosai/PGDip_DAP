{
 "cells": [
  {
   "cell_type": "markdown",
   "id": "e3446075",
   "metadata": {},
   "source": [
    "## Data import"
   ]
  },
  {
   "cell_type": "code",
   "execution_count": 4,
   "id": "e319ba4c",
   "metadata": {},
   "outputs": [
    {
     "name": "stdout",
     "output_type": "stream",
     "text": [
      "Population by county dataset sample:\n",
      "   StateFIPS       State  Year       Value  Data Comment  Unnamed: 5\n",
      "0          1     Alabama  2021   5,039,877           NaN         NaN\n",
      "1          2      Alaska  2021     732,673           NaN         NaN\n",
      "2          4     Arizona  2021   7,276,316           NaN         NaN\n",
      "3          5    Arkansas  2021   3,025,891           NaN         NaN\n",
      "4          6  California  2021  39,237,836           NaN         NaN\n",
      "\n"
     ]
    }
   ],
   "source": [
    "import pandas as pd\n",
    "import numpy as np\n",
    "from numpy import nan as NA\n",
    "import requests as rq\n",
    "import json\n",
    "import os\n",
    "import plotly.graph_objects as go\n",
    "import seaborn as sns\n",
    "import psycopg2\n",
    "import matplotlib.pyplot as plt\n",
    "\n",
    "# Standard file path for all files\n",
    "home_directory = os.path.expanduser('~') # Retrieve user's home directory\n",
    "file_path = os.path.join(home_directory,'Downloads') # Create file path\n",
    "\n",
    "# Create function to import *.csv file and handle exceptions\n",
    "def import_csv_file(file_path):\n",
    "    try:\n",
    "        if not os.path.exists(file_path): # Check if the file exists\n",
    "            raise FileNotFoundError(f\"The file {file_path} does not exist.\")\n",
    "        df = pd.read_csv(file_path) # Read the *.csv file into a Pandas DataFrame\n",
    "        return df\n",
    "    except FileNotFoundError as e:\n",
    "        print(f\"Error: {e}\")\n",
    "    except pd.errors.ParserError:\n",
    "        print(f\"Error: Unable to parse the CSV file. Make sure it is a valid CSV file.\")\n",
    "    except Exception as e:\n",
    "        print(f'Error: An unexpected error occurred. {str(e)}')\n",
    "\n",
    "# 1.4. Population by county dataset\n",
    "file3 = 'data_103802.csv' # Input file name\n",
    "population_file_name = 'population_dataset.csv' # Output file name\n",
    "population_csv_file = os.path.join(file_path,file3) # Join path with file name\n",
    "file_path = population_csv_file\n",
    "population = import_csv_file(file_path) # Import the *.csv file of the fourth dataset\n",
    "if population is not None: \n",
    "    print(\"Population by county dataset sample:\")\n",
    "    print(population.head()) # Display the first few rows of the DataFrames if not null\n",
    "    print()\n",
    "file_path = os.path.join(home_directory,'Downloads') # Return the file path to its original value"
   ]
  },
  {
   "cell_type": "markdown",
   "id": "26e7730b",
   "metadata": {},
   "source": [
    "## Data quality and visualisations"
   ]
  },
  {
   "cell_type": "code",
   "execution_count": 5,
   "id": "141591c7",
   "metadata": {},
   "outputs": [
    {
     "name": "stdout",
     "output_type": "stream",
     "text": [
      "Population by county dataset overview:\n",
      "<class 'pandas.core.frame.DataFrame'>\n",
      "RangeIndex: 51 entries, 0 to 50\n",
      "Data columns (total 6 columns):\n",
      " #   Column        Non-Null Count  Dtype  \n",
      "---  ------        --------------  -----  \n",
      " 0   StateFIPS     51 non-null     int64  \n",
      " 1   State         51 non-null     object \n",
      " 2   Year          51 non-null     int64  \n",
      " 3   Value         51 non-null     object \n",
      " 4   Data Comment  0 non-null      float64\n",
      " 5   Unnamed: 5    0 non-null      float64\n",
      "dtypes: float64(2), int64(2), object(2)\n",
      "memory usage: 2.5+ KB\n",
      "None\n",
      "\n",
      "\u001b[1mPopulation by county dataset overview:\u001b[0m\n",
      "Missing values:\n",
      "0\n",
      "Non-numeric values:\n",
      "   StateFIPS       State  Year     Value  Data Comment  Unnamed: 5\n",
      "0          1     Alabama  2021   5039877           NaN         NaN\n",
      "1          2      Alaska  2021    732673           NaN         NaN\n",
      "2          4     Arizona  2021   7276316           NaN         NaN\n",
      "3          5    Arkansas  2021   3025891           NaN         NaN\n",
      "4          6  California  2021  39237836           NaN         NaN\n",
      "0\n"
     ]
    },
    {
     "data": {
      "image/png": "[encoded data removed]",
      "text/plain": [
       "<Figure size 300x500 with 1 Axes>"
      ]
     },
     "metadata": {},
     "output_type": "display_data"
    },
    {
     "name": "stdout",
     "output_type": "stream",
     "text": [
      "\n"
     ]
    }
   ],
   "source": [
    "# Set visuals standard\n",
    "colors = ['lightslategray',] * 10\n",
    "colors[0] = 'crimson'\n",
    "\n",
    "# Data info\n",
    "if population is not None: \n",
    "    print(\"Population by county dataset overview:\")\n",
    "    print(population.info()) # Describe the dataset\n",
    "    print()\n",
    "\n",
    "# Pre-processing\n",
    "population['Value'] = population['Value'].astype(str) # Convert the 'Value' column to string\n",
    "population['Value'] = pd.to_numeric(population['Value'].str.replace('[^\\d]', '', regex=True), errors='coerce') # Replace non-numeric characters and convert to numeric\n",
    "print(\"\\033[1mPopulation by county dataset overview:\\033[0m\")\n",
    "population_null = population['Value'].isnull().sum() # Check for missing values\n",
    "print(\"Missing values:\")\n",
    "print(population_null)\n",
    "population_NaN = pd.to_numeric(population['Value'], errors='coerce').isna().sum() # Check for non-numeric values\n",
    "print(\"Non-numeric values:\")\n",
    "print(population.head())\n",
    "print(population_NaN)\n",
    "plt.figure(figsize=(3, 5))  # Set boxplot size \n",
    "sns.boxplot(y=population['Value']) # Create a boxplot to check for outliers\n",
    "plt.ylabel('Population observations') # Set Y axis label\n",
    "plt.show()\n",
    "print()"
   ]
  },
  {
   "cell_type": "code",
   "execution_count": null,
   "id": "2150c068",
   "metadata": {},
   "outputs": [],
   "source": []
  }
 ],
 "metadata": {
  "kernelspec": {
   "display_name": "Python 3 (ipykernel)",
   "language": "python",
   "name": "python3"
  },
  "language_info": {
   "codemirror_mode": {
    "name": "ipython",
    "version": 3
   },
   "file_extension": ".py",
   "mimetype": "text/x-python",
   "name": "python",
   "nbconvert_exporter": "python",
   "pygments_lexer": "ipython3",
   "version": "3.11.4"
  }
 },
 "nbformat": 4,
 "nbformat_minor": 5
}
